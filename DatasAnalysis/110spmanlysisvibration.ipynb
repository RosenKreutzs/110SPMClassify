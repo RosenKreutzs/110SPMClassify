{
 "metadata": {
  "kernelspec": {
   "language": "python",
   "display_name": "Python 3",
   "name": "python3"
  },
  "language_info": {
   "name": "python",
   "version": "3.10.13",
   "mimetype": "text/x-python",
   "codemirror_mode": {
    "name": "ipython",
    "version": 3
   },
   "pygments_lexer": "ipython3",
   "nbconvert_exporter": "python",
   "file_extension": ".py"
  },
  "kaggle": {
   "accelerator": "none",
   "dataSources": [
    {
     "sourceId": 8838704,
     "sourceType": "datasetVersion",
     "datasetId": 5319136
    }
   ],
   "dockerImageVersionId": 30732,
   "isInternetEnabled": true,
   "language": "python",
   "sourceType": "notebook",
   "isGpuEnabled": false
  }
 },
 "nbformat_minor": 4,
 "nbformat": 4,
 "cells": [
  {
   "cell_type": "markdown",
   "source": "# 1. 分析振动vibration(表现为加速度的时间序列)\n- 描述：12个以加速度一维序列表示的振动；\n- 分别显示完整序列；0-5000序列，500000-550000序列，800000-810000序列；\n- 由肉眼即可看出各不同序列的不同显示图有区分性，和一定的规律性；",
   "metadata": {}
  },
  {
   "cell_type": "code",
   "source": [
    "import os  \n",
    "import pandas as pd  \n",
    "import matplotlib.pyplot as plt\n",
    "import numpy as np\n",
    "  \n",
    "    #step1:加载数据集\n",
    "# 设置数据集的路径  \n",
    "data_dir = '../DataFiles/ODS/vibration'   \n",
    "# 创建空的列表来存储所有的DataFrame  \n",
    "X_data0 = []  \n",
    "y_data0 = []\n",
    "# 遍历指定目录下的所有文件  \n",
    "for filename in os.listdir(data_dir):  \n",
    "    if filename.endswith('.csv'):  \n",
    "        # 构建文件的完整路径  \n",
    "        file_path = os.path.join(data_dir, filename)  \n",
    "        # 读取Excel文件  \n",
    "        df = pd.read_csv(file_path)\n",
    "        serie=df.iloc[:, 0]\n",
    "        version_without_extension = filename.rsplit(\".\", 1)[0] \n",
    "        serie.name=version_without_extension\n",
    "        # 将读取的DataFrame添加到列表中  \n",
    "        X_data0.append(serie)\n",
    "        y_data0.append(version_without_extension)\n",
    "\n",
    "    #step2:遍历X_data0中的每个DataFrame，并删除非数字数据  \n",
    "cleaned_data = []  \n",
    "for df in X_data0:  \n",
    "    df_cleaned = df[pd.to_numeric(df, errors='coerce').notnull()]  \n",
    "    cleaned_data.append(df_cleaned)  \n",
    " \n",
    "\n",
    "    #step3:将X_data0中的每个DataFrame的所有元素变为float类型 \n",
    "for i, df in enumerate(cleaned_data):  \n",
    "    X_data0[i] = df.astype(float) \n",
    "\n",
    "    #step4:打印数据\n",
    "print(f'X_data0的类型：{type(X_data0)};X_data0的子列的类型：{type(X_data0[0])};X_data0的第一列的长度：{X_data0[0].shape};')\n",
    "print(f'y_data0的类型：{type(y_data0)};y_data0的长度：{len(y_data0)};')\n",
    "# 创建一个图形和一组子图  \n",
    "fig, axs = plt.subplots(len(X_data0), figsize=(10, 15))  # 根据DataFrame的数量创建子图  \n",
    "  \n",
    "# 遍历X_data0中的每个DataFrame  \n",
    "for i, df in enumerate(X_data0): \n",
    "    # 绘制当前DataFrame的第一列（假设每个DataFrame都只有一列）  \n",
    "    df.plot(ax=axs[i], title=f'Complete DataFrame {i+1}', label=y_data0[i])  \n",
    "    axs[i].legend()  # 显示图例  \n",
    "  \n",
    "# 显示图形  \n",
    "plt.show()\n",
    "\n",
    "\n",
    "fig, axs = plt.subplots(len(X_data0), figsize=(10, 15))  # 根据DataFrame的数量创建子图  \n",
    "  \n",
    "# 遍历X_data0中的每个DataFrame  \n",
    "for i, df in enumerate(X_data0): \n",
    "    df = df.iloc[:5001]\n",
    "    # 绘制当前DataFrame的第一列（假设每个DataFrame都只有一列）  \n",
    "    df.plot(ax=axs[i], title=f'0-5000 DataFrame {i+1}', label=y_data0[i])  \n",
    "    axs[i].legend()  # 显示图例  \n",
    "  \n",
    "# 显示图形  \n",
    "plt.show()\n",
    "\n",
    "\n",
    "fig, axs = plt.subplots(len(X_data0), figsize=(10, 15))  # 根据DataFrame的数量创建子图  \n",
    "  \n",
    "# 遍历X_data0中的每个DataFrame  \n",
    "for i, df in enumerate(X_data0): \n",
    "    df = df.iloc[500000:550001]\n",
    "    # 绘制当前DataFrame的第一列（假设每个DataFrame都只有一列）  \n",
    "    df.plot(ax=axs[i], title=f'500000-550001 DataFrame {i+1}', label=y_data0[i])  \n",
    "    axs[i].legend()  # 显示图例  \n",
    "  \n",
    "# 显示图形  \n",
    "plt.show()\n",
    "\n",
    "fig, axs = plt.subplots(len(X_data0), figsize=(10, 15))  # 根据DataFrame的数量创建子图  \n",
    "  \n",
    "# 遍历X_data0中的每个DataFrame  \n",
    "for i, df in enumerate(X_data0): \n",
    "    df = df.iloc[800000:850001]\n",
    "    # 绘制当前DataFrame的第一列（假设每个DataFrame都只有一列）  \n",
    "    df.plot(ax=axs[i], title=f'800000-850001 DataFrame {i+1}', label=y_data0[i])  \n",
    "    axs[i].legend()  # 显示图例  \n",
    "  \n",
    "# 显示图形  \n",
    "plt.show()"
   ],
   "metadata": {
    "execution": {
     "iopub.status.busy": "2024-07-08T08:15:21.540855Z",
     "iopub.execute_input": "2024-07-08T08:15:21.541287Z",
     "iopub.status.idle": "2024-07-08T08:16:00.756375Z",
     "shell.execute_reply.started": "2024-07-08T08:15:21.541255Z",
     "shell.execute_reply": "2024-07-08T08:16:00.755392Z"
    },
    "trusted": true,
    "ExecuteTime": {
     "end_time": "2024-07-31T08:44:56.509518Z",
     "start_time": "2024-07-31T08:44:15.954622Z"
    }
   },
   "execution_count": 2,
   "outputs": []
  },
  {
   "cell_type": "markdown",
   "source": "## 1_2. 将完整序列分解为小片段；(vibration)",
   "metadata": {}
  },
  {
   "cell_type": "markdown",
   "source": "### 1_2_1. 绘制数据长度对样本摘的影响的曲线图\n- 根据曲线图确认样本片段的长度(由于样本熵基本在500后波动不大，即得到500的长度片段的复杂性是稳定的，512可作为分片长度)\n\n。 90年代初提出的近似熵简记为的概念是从衡量时间序列复杂性的角度来度量信号，它依据的是序列中产生新模式的概率大小 ，如 果一个序列产生新模式的概率越大 ， 那么此序列的复杂性就越大 ，相应的近似熵的值就越大 。 近似熵可以用来描述振动\n信号的复杂性和不规则性 ，通过比较不同运行期间内机械设备近似熵的变化情况 ，\n可 以 反映该机械设备在此期间的运行状况 。样本摘简记为是近似熵的改进算法， 它 的优越性在于可以较少地依赖于时间序列长度 。",
   "metadata": {}
  },
  {
   "cell_type": "code",
   "source": "import matplotlib.pyplot as plt  \ndef calculate_sample_entropy(data, m=2, r_factor=0.1):  \n    \"\"\"  \n    计算给定时间序列的样本熵。  \n      \n    参数:  \n    data (numpy.ndarray): 时间序列数据数组。  \n    m (int): 嵌入维度。  \n    r_factor (float): 相似容限，以标准差为单位。  \n      \n    返回:  \n    float: 样本熵值。  \n    \"\"\"  \n    # 将数据转换为numpy数组  \n    data = np.array(data)  \n    N = len(data)  \n      \n    # 计算标准差  \n    std_dev = np.std(data)  \n    r = r_factor * std_dev  # 将相似容限转换为实际数值  \n      \n    # 初始化计数器  \n    C_m = np.zeros(N - m + 1)  \n    C_m_plus_1 = np.zeros(N - m)  \n      \n    # 计算距离并计数  \n    for i in range(N - m + 1):  \n        for j in range(i + 1, N - m + 1):  \n            if np.max(np.abs(data[i:i+m] - data[j:j+m])) <= r:  \n                C_m[i] += 1  \n                C_m[j] += 1  \n      \n    for i in range(N - m):  \n        for j in range(i + 1, N - m):  \n            if np.max(np.abs(data[i:i+m+1] - data[j:j+m+1])) <= r:  \n                C_m_plus_1[i] += 1  \n                C_m_plus_1[j] += 1  \n      \n    # 转换为概率  \n    Phi_m = C_m / (N - m)  \n    Phi_m_plus_1 = C_m_plus_1 / (N - m)  \n      \n    # 避免除以零  \n    Phi_m = np.where(Phi_m == 0, np.finfo(float).eps, Phi_m)  \n    Phi_m_plus_1 = np.where(Phi_m_plus_1 == 0, np.finfo(float).eps, Phi_m_plus_1)  \n      \n    # 计算样本熵  \n    SampEn = -np.log(np.mean(Phi_m_plus_1) / np.mean(Phi_m))  \n      \n    return SampEn   \n    \nsample_entropies_vectors = []  \ndata_lengths_vectors = []  \n\nfor i in range(len(X_data0)):\n    ts = X_data0[i]\n    # 初始化列表来存储不同窗口长度的样本熵  \n    sample_entropies = []  \n    data_lengths = []   \n    # 遍历窗口长度，从100开始，以100为间隔，直到1000  \n    for data_length in range(100, 1001, 10):  \n        # 从时间序列中提取第一个窗口  \n        subsequence = ts[:data_length].values  \n      \n        # 计算窗口的样本熵\n        simulated_samp_en =  calculate_sample_entropy(subsequence)\n        # 将样本熵和对应的窗口长度添加到列表中  \n        sample_entropies.append(simulated_samp_en)  \n        data_lengths.append(data_length)\n    sample_entropies_vectors.append(sample_entropies)  \n    data_lengths_vectors.append(data_lengths) \n",
   "metadata": {
    "execution": {
     "iopub.status.busy": "2024-07-08T08:35:56.489258Z",
     "iopub.execute_input": "2024-07-08T08:35:56.490582Z"
    },
    "trusted": true
   },
   "execution_count": null,
   "outputs": []
  },
  {
   "cell_type": "code",
   "source": "import os  \nimport pandas as pd  \nimport matplotlib.pyplot as plt\n\n# 创建图表和坐标轴  \nplt.figure(figsize=(10, 6))  \n# 绘制每个数组  \nfor i, sample_entropies in enumerate(sample_entropies_vectors, 0):\n    plt.plot(data_lengths_vectors[i], sample_entropies, label=f'Vector {i}')  \n# 添加图例、标题和坐标轴标签  \nplt.legend()  \nplt.title('entropies')  \nplt.xlabel('window_lengths')  \nplt.ylabel('sample_entropies') \n# 显示图表  \nplt.show()",
   "metadata": {
    "execution": {
     "iopub.status.busy": "2024-07-08T03:02:28.586726Z",
     "iopub.execute_input": "2024-07-08T03:02:28.587114Z",
     "iopub.status.idle": "2024-07-08T03:02:29.191485Z",
     "shell.execute_reply.started": "2024-07-08T03:02:28.587083Z",
     "shell.execute_reply": "2024-07-08T03:02:29.190232Z"
    },
    "trusted": true
   },
   "execution_count": null,
   "outputs": []
  },
  {
   "cell_type": "markdown",
   "source": "### 1_2_2. 按重复度为50%，固定长度为512进行分解为小片段；(vibration)",
   "metadata": {}
  },
  {
   "cell_type": "code",
   "source": "# 初始化X_data1来存储结果  \nX_data1 = []  \n  \n# 遍历X_data0中的每个Series  \nfor series in X_data0:  \n    # 计算步长（由于重叠率为50%，步长为序列长度的一半）  \n    step_size = 256  # 因为256的一半是512，且我们想要50%的重叠  \n    # 初始化一个空的list来存储子序列  \n    subsequences = []  \n    # 使用range和步长来生成子序列  \n    for i in range(0, len(series) - 512 + 1, step_size):  \n        # 确保切片是一维的，并转换为Series（虽然这里切片已经是Series）  \n        subsequence = series.iloc[i:i+512]  \n        subsequences.append(subsequence) \n    X_data1.append(subsequences)  \n\n# 创建一个图形和一组子图  \nfig, axs = plt.subplots(len(X_data1), figsize=(10, 15))  # 根据DataFrame的数量创建子图  \n  \n# 遍历X_data0中的每个DataFrame  \nfor i, df in enumerate(X_data1): \n    # 绘制当前DataFrame的第一列（假设每个DataFrame都只有一列）  \n    df[100].plot(ax=axs[i], title=y_data0[i], label=\"acceleration\")  \n    axs[i].legend()  # 显示图例  \n   \n# 显示图形  \nplt.show()",
   "metadata": {
    "execution": {
     "iopub.status.busy": "2024-07-08T08:16:10.530376Z",
     "iopub.execute_input": "2024-07-08T08:16:10.530895Z",
     "iopub.status.idle": "2024-07-08T08:16:15.627516Z",
     "shell.execute_reply.started": "2024-07-08T08:16:10.530846Z",
     "shell.execute_reply": "2024-07-08T08:16:15.626376Z"
    },
    "trusted": true
   },
   "execution_count": 8,
   "outputs": []
  },
  {
   "cell_type": "markdown",
   "source": "## 1_3. 提取有效特征；\n- 统计量特征：有量纲的特征(均值mean、标准差std、最大值max、最小值min、中位数median、偏度skew、峰度kurt),无量纲的特征(峰值指标peak_factor,裕度指标clearance_factor,峭度指标kurtosis,脉冲指标impulse_factor)。\n- 频域特征：快速傅里叶变换（FFT）获取频谱特征，如频率峰值、能量分布。\n- 时域特征：过零率、自相关函数、互相关函数；(对于本数据而言效果不好)\n- 时频特征：使用小波变换、希尔伯特-黄变换（HHT）转为为图像(计算量的大放弃)，使用EMD进行去高频噪音再重构；\n\n注释：量纲，表存在不同物理量关系；有量纲特征值的数值大小常因负载，转速等条件的变化而变化， 给工程应用带来一定的困难。因此机械故障诊断中还釆用了多种无量纲指标；",
   "metadata": {}
  },
  {
   "cell_type": "markdown",
   "source": "### 1_3_1. 统计量特征(vibration)\n- 由下图可知不同类别的数据片段的统计量特征是具有明显区分性的；",
   "metadata": {}
  },
  {
   "cell_type": "code",
   "source": "import numpy as np\nimport pandas as pd\nimport matplotlib.pyplot as plt\n# 统计量特征：\n# 初始化一个列表来存储每个 DataFrame 的均值,标准差向量  \nmean_vectors = []  \nstd_vectors = []\nmax_vectors = []\nmin_vectors = []\nmedian_vectors = []\nskew_vectors = []\nkurt_vectors = []\npeak_factors_vectors=[]\nclearance_factors_vectors=[]\nkurtosiss_vectors=[]\nimpulse_factors_vectors=[]\n# 遍历 X_data0 中的每个 list  \nfor list0 in X_data1:\n    means=[]\n    stds=[]\n    maxs=[]\n    mins=[]\n    medians=[]\n    skews=[]\n    kurts=[]\n    peak_factors=[]\n    clearance_factors=[]\n    kurtosiss=[]\n    impulse_factors=[]\n    for i in  range(len(list0)):\n        data=list0[i]\n        # 计算每列的离散特征，这将返回一个 Series，其中包含每列的离散特征\n        mean = data.mean() \n        std = data.std()\n        max0 = data.max()\n        min0 = data.min()\n        median = data.median()\n        skew = data.skew()\n        kurt = data.kurt()\n        # 峰值指标（Peak Factor）  \n        peak_value = np.max(data)  \n        rms_value = np.sqrt(np.mean(data**2))  \n        peak_factor = peak_value / rms_value  \n  \n        # 裕度指标（Clearance Factor）  \n        # 这里我们定义为峰值与第二大绝对值的比值  \n        second_largest_abs = np.sort(np.abs(data))[-2] if len(data) > 1 else 0  \n        clearance_factor = peak_value / second_largest_abs  \n  \n        # 峭度指标（Kurtosis Factor）  \n        # 注意：这里我们计算的是“样本峭度”，它通常与0进行比较（正态分布的峭度为0）  \n        mean_value = np.mean(data)  \n        std_dev = np.std(data)  \n        kurtosis = np.sum((data - mean_value)**4) / (std_dev**4 * len(data)) - 3  \n  \n        # 脉冲指标（Impulse Factor）  \n        mean_abs_value = np.mean(np.abs(data))  \n        impulse_factor = peak_value / mean_abs_value \n        \n        means.append(mean)\n        stds.append(std)\n        maxs.append(max0)\n        mins.append(min0)\n        medians.append(median)\n        skews.append(skew)\n        kurts.append(kurt)\n        peak_factors.append(peak_factor)\n        clearance_factors.append(clearance_factor)\n        kurtosiss.append(kurtosis)\n        impulse_factors.append(impulse_factor)\n    # 将这个 lsit 转换为一个 NumPy 数组（或保持为 Series，取决于您的需求）  \n    mean_vector = np.array(means)\n    std_vector = np.array(stds)\n    max_vector = np.array(maxs)\n    min_vector = np.array(mins)\n    median_vector = np.array(medians)\n    skew_vector = np.array(skews)\n    kurt_vector = np.array(kurts)\n    peak_factors_vector=np.array(peak_factors)\n    clearance_factors_vector=np.array(clearance_factors)\n    kurtosiss_vector=np.array(kurtosiss)\n    impulse_factors_vector=np.array(impulse_factors)\n    # 将这个均值，标准差向量添加到列表中  \n    mean_vectors.append(mean_vector)  \n    std_vectors.append(std_vector)\n    max_vectors.append(max_vector)\n    min_vectors.append(min_vector)\n    median_vectors.append(median_vector)\n    skew_vectors.append(skew_vector)\n    kurt_vectors.append(kurt_vector)\n    peak_factors_vectors.append(peak_factors_vector)\n    clearance_factors_vectors.append(clearance_factors_vector)\n    kurtosiss_vectors.append(kurtosiss_vector)\n    impulse_factors_vectors.append(impulse_factors_vector)\n# 创建图表和坐标轴  \nplt.figure(figsize=(10, 6))  \n# 绘制每个数组  \nfor i, vector in enumerate(mean_vectors, 1):  \n    plt.plot(vector, label=f'Vector {i}')  \n# 添加图例、标题和坐标轴标签  \nplt.legend()  \nplt.title('Mean Vectors')  \nplt.xlabel('Index')  \nplt.ylabel('Value') \n# 显示图表  \nplt.show()\n\n# 创建图表和坐标轴  \nplt.figure(figsize=(10, 6))  \n# 绘制每个数组  \nfor i, vector in enumerate(std_vectors, 1):  \n    plt.plot(vector, label=f'Vector {i}')  \n# 添加图例、标题和坐标轴标签  \nplt.legend()  \nplt.title('Std Vectors')  \nplt.xlabel('Index')  \nplt.ylabel('Value') \n# 显示图表  \nplt.show()\n\n# 创建图表和坐标轴  \nplt.figure(figsize=(10, 6))  \n# 绘制每个数组  \nfor i, vector in enumerate(median_vectors, 1):  \n    plt.plot(vector, label=f'Vector {i}')  \n# 添加图例、标题和坐标轴标签  \nplt.legend()  \nplt.title('Median Vectors')  \nplt.xlabel('Index')  \nplt.ylabel('Value') \n# 显示图表  \nplt.show()\n\n# 创建图表和坐标轴  \nplt.figure(figsize=(10, 6))  \n# 绘制每个数组  \nfor i, vector in enumerate(max_vectors, 1):  \n    plt.plot(vector, label=f'Vector {i}')  \n# 添加图例、标题和坐标轴标签  \nplt.legend()  \nplt.title('Max Vectors')  \nplt.xlabel('Index')  \nplt.ylabel('Value') \n# 显示图表  \nplt.show()\n\n\n# 创建图表和坐标轴  \nplt.figure(figsize=(10, 6))  \n# 绘制每个数组  \nfor i, vector in enumerate(min_vectors, 1):  \n    plt.plot(vector, label=f'Vector {i}')  \n# 添加图例、标题和坐标轴标签  \nplt.legend()  \nplt.title('Min Vectors')  \nplt.xlabel('Index')  \nplt.ylabel('Value') \n# 显示图表  \nplt.show()\n\n# 创建图表和坐标轴  \nplt.figure(figsize=(10, 6))  \n# 绘制每个数组  \nfor i, vector in enumerate(skew_vectors, 1):  \n    plt.plot(vector, label=f'Vector {i}')  \n# 添加图例、标题和坐标轴标签  \nplt.legend()  \nplt.title('Skew Vectors')  \nplt.xlabel('Index')  \nplt.ylabel('Value') \n# 显示图表  \nplt.show()\n\n# 创建图表和坐标轴  \nplt.figure(figsize=(10, 6))  \n# 绘制每个数组  \nfor i, vector in enumerate(kurt_vectors, 1):  \n    plt.plot(vector, label=f'Vector {i}')  \n# 添加图例、标题和坐标轴标签  \nplt.legend()  \nplt.title('Kurt Vectors')  \nplt.xlabel('Index')  \nplt.ylabel('Value') \n# 显示图表  \nplt.show()\n\n# 创建图表和坐标轴  \nplt.figure(figsize=(10, 6))  \n# 绘制每个数组  \nfor i, vector in enumerate(peak_factors_vectors, 1):  \n    plt.plot(vector, label=f'Vector {i}')  \n# 添加图例、标题和坐标轴标签  \nplt.legend()  \nplt.title('Peak Factors Vectors')  \nplt.xlabel('Index')  \nplt.ylabel('Value') \n# 显示图表  \nplt.show()\n\n# 创建图表和坐标轴  \nplt.figure(figsize=(10, 6))  \n# 绘制每个数组  \nfor i, vector in enumerate(clearance_factors_vectors, 1):  \n    plt.plot(vector, label=f'Vector {i}')  \n# 添加图例、标题和坐标轴标签  \nplt.legend()  \nplt.title('Clearance Factors Vectors')  \nplt.xlabel('Index')  \nplt.ylabel('Value') \n# 显示图表  \nplt.show()\n\n# 创建图表和坐标轴  \nplt.figure(figsize=(10, 6))  \n# 绘制每个数组  \nfor i, vector in enumerate(kurtosiss_vectors, 1):  \n    plt.plot(vector, label=f'Vector {i}')  \n# 添加图例、标题和坐标轴标签  \nplt.legend()  \nplt.title('Kurtosiss Vectors')  \nplt.xlabel('Index')  \nplt.ylabel('Value') \n# 显示图表  \nplt.show()\n\n# 创建图表和坐标轴  \nplt.figure(figsize=(10, 6))  \n# 绘制每个数组  \nfor i, vector in enumerate(impulse_factors_vectors, 1):  \n    plt.plot(vector, label=f'Vector {i}')  \n# 添加图例、标题和坐标轴标签  \nplt.legend()  \nplt.title('Impulse Factors Vectors')  \nplt.xlabel('Index')  \nplt.ylabel('Value') \n# 显示图表  \nplt.show()",
   "metadata": {
    "execution": {
     "iopub.status.busy": "2024-07-05T07:05:57.528393Z",
     "iopub.execute_input": "2024-07-05T07:05:57.528754Z",
     "iopub.status.idle": "2024-07-05T07:06:30.124922Z",
     "shell.execute_reply.started": "2024-07-05T07:05:57.528722Z",
     "shell.execute_reply": "2024-07-05T07:06:30.123619Z"
    },
    "trusted": true
   },
   "execution_count": null,
   "outputs": []
  },
  {
   "cell_type": "markdown",
   "source": "### 1_3_2. 频域特征(vibration)\n- 由不同类型各自的4个片段的频谱图得，主频大都是靠近0，幅值有部分区分性；\n- 相同类型的主频幅值的有两到三个范围;\n- 不同类型的主频幅值分布情况与统计量特征的均值分布基本相同；",
   "metadata": {}
  },
  {
   "cell_type": "code",
   "source": "# 遍历 X_data0 中的每个 list  \nfft_vectors = [] \nmax_magnitudes_vectors = []\nfor i, list0 in enumerate(X_data1, 1):\n    fft_magnitudes=[]\n    max_magnitudes=[]\n    for i in  range(len(list0)):\n        # 将Series转换为numpy数组 \n        arr = list0[i].values\n        # 应用FFT  \n        fft_result = np.fft.fft(arr)  \n  \n        # FFT结果是复数，你可以计算其幅度（magnitude）  \n        fft_magnitude = np.abs(fft_result)  \n        fft_magnitude_max=fft_magnitude.max()\n        fft_magnitudes.append(fft_magnitude)\n        max_magnitudes.append(fft_magnitude_max)\n    fft_vectors.append(fft_magnitudes)\n    max_magnitudes_vectors.append(max_magnitudes)\n  \n# 创建图表和坐标轴  \nplt.figure(figsize=(10, 6))  \n# 绘制每个数组  \nfor i, vector in enumerate(fft_vectors, 1):  \n    plt.plot(vector[100], label=f'Vector {i};max:{vector[10].max()}')  \n# 添加图例、标题和坐标轴标签  \nplt.legend()  \nplt.title('100 index')  \nplt.xlabel('Frequency')  \nplt.ylabel('Magnitude') \n# 显示图表  \nplt.show()\n\n\n# 创建图表和坐标轴  \nplt.figure(figsize=(10, 6))  \n# 绘制每个数组  \nfor i, vector in enumerate(fft_vectors, 1):  \n    plt.plot(vector[1000], label=f'Vector {i};max:{vector[100].max()}')  \n# 添加图例、标题和坐标轴标签  \nplt.legend()  \nplt.title('1000 index')  \nplt.xlabel('Frequency')  \nplt.ylabel('Magnitude') \n# 显示图表  \nplt.show()\n\n# 创建图表和坐标轴  \nplt.figure(figsize=(10, 6))  \n# 绘制每个数组  \nfor i, vector in enumerate(fft_vectors, 1):  \n    plt.plot(vector[2000], label=f'Vector {i};max:{vector[1000].max()}')  \n# 添加图例、标题和坐标轴标签  \nplt.legend()  \nplt.title('2000 index')  \nplt.xlabel('Frequency')  \nplt.ylabel('Magnitude') \n# 显示图表  \nplt.show()\n\n# 创建图表和坐标轴  \nplt.figure(figsize=(10, 6))  \n# 绘制每个数组  \nfor i, vector in enumerate(fft_vectors, 1): \n    plt.plot(vector[3000], label=f'Vector {i};max:{vector[3000].max()}')  \n# 添加图例、标题和坐标轴标签  \nplt.legend()  \nplt.title('3000 index')  \nplt.xlabel('Frequency')  \nplt.ylabel('Magnitude') \n# 显示图表  \nplt.show()\n\n# 创建图表和坐标轴  \nplt.figure(figsize=(10, 6))  \n# 绘制每个数组  \nfor i, vector in enumerate(max_magnitudes_vectors, 1):  \n    plt.plot(vector, label=f'Vector {i}')  \n# 添加图例、标题和坐标轴标签  \nplt.legend()  \nplt.title('Max Magnitudes')  \nplt.xlabel('Magnitude')  \nplt.ylabel('index') \n# 显示图表  \nplt.show()",
   "metadata": {
    "execution": {
     "iopub.status.busy": "2024-07-05T07:06:30.126821Z",
     "iopub.execute_input": "2024-07-05T07:06:30.127460Z",
     "iopub.status.idle": "2024-07-05T07:06:33.767547Z",
     "shell.execute_reply.started": "2024-07-05T07:06:30.127424Z",
     "shell.execute_reply": "2024-07-05T07:06:33.766022Z"
    },
    "trusted": true
   },
   "execution_count": null,
   "outputs": []
  },
  {
   "cell_type": "markdown",
   "source": "### 1_3_3. 时域特征(vibration)\n- 由于vibration显示的都是正加速度无过零率，不算；\n- 不计算互相关性函数；\n- 自相关性函数由可知具有区别性；",
   "metadata": {}
  },
  {
   "cell_type": "code",
   "source": "# 遍历 X_data0 中的每个 list  \nautocorr_vectors =[]\nfor i, list0 in enumerate(X_data1, 1):\n    autocorr_vector = []\n    for i in  range(len(list0)): \n        s = list0[i]\n        # 计算自相关函数  \n        autocorr = np.correlate(s, s, mode='full')  \n        # 自相关函数是对称的，我们通常只关心它的一半（或根据需要调整）  \n        autocorr = autocorr[autocorr.size // 2:]  \n  \n        # 归一化自相关（使其最大值为1）\n        autocorr = autocorr / autocorr[0] \n        autocorr_vector.append(autocorr)\n    autocorr_vectors.append(autocorr_vector)\n\n# 创建图表和坐标轴  \nplt.figure(figsize=(10, 6))  \n# 绘制每个数组  \nfor i, vector in enumerate(autocorr_vectors, 1):  \n    plt.plot(vector[100], label=f'Vector {i}')  \n# 添加图例、标题和坐标轴标签  \nplt.legend()  \nplt.title(' 100 index')  \nplt.xlabel('Autocorr')  \nplt.ylabel('Time') \n# 显示图表  \nplt.show()\n\n# 创建图表和坐标轴  \nplt.figure(figsize=(10, 6))  \n# 绘制每个数组  \nfor i, vector in enumerate(autocorr_vectors, 1):  \n    plt.plot(vector[1000], label=f'Vector {i}')  \n# 添加图例、标题和坐标轴标签  \nplt.legend()  \nplt.title(' 1000 index')  \nplt.xlabel('Autocorr')  \nplt.ylabel('Time') \n# 显示图表  \nplt.show()\n\n# 创建图表和坐标轴  \nplt.figure(figsize=(10, 6))  \n# 绘制每个数组  \nfor i, vector in enumerate(autocorr_vectors, 1):  \n    plt.plot(vector[2000], label=f'Vector {i}')  \n# 添加图例、标题和坐标轴标签  \nplt.legend()  \nplt.title(' 2000 index')  \nplt.xlabel('Autocorr')  \nplt.ylabel('Time') \n# 显示图表  \nplt.show()\n\n\n# 创建图表和坐标轴  \nplt.figure(figsize=(10, 6))  \n# 绘制每个数组  \nfor i, vector in enumerate(autocorr_vectors, 1):  \n    plt.plot(vector[3000], label=f'Vector {i}')  \n# 添加图例、标题和坐标轴标签  \nplt.legend()  \nplt.title(' 3000 index')  \nplt.xlabel('Autocorr')  \nplt.ylabel('Time') \n# 显示图表  \nplt.show()",
   "metadata": {
    "execution": {
     "iopub.status.busy": "2024-07-05T07:06:33.770560Z",
     "iopub.execute_input": "2024-07-05T07:06:33.770952Z",
     "iopub.status.idle": "2024-07-05T07:06:44.083211Z",
     "shell.execute_reply.started": "2024-07-05T07:06:33.770887Z",
     "shell.execute_reply": "2024-07-05T07:06:44.081966Z"
    },
    "trusted": true
   },
   "execution_count": null,
   "outputs": []
  },
  {
   "cell_type": "markdown",
   "source": "### 1_3_4. 时频特征(vibration)\n- 使用EMD分解后去高频噪音数据(K小于0.1的IMF)后再重构；\n- 综合评价指标K为方差贡献率和相关性的组合运算结果，表IMF与原始信号的相关性和贡献度；",
   "metadata": {}
  },
  {
   "cell_type": "code",
   "source": "import subprocess  \n# 使用subprocess.run()执行shell命令  \nresult = subprocess.run(['pip', 'install','EMD-signal'], capture_output=True, text=True)\nimport pandas as pd  \nimport numpy as np  \nfrom PyEMD import EMD  #pip install EMD-signal\nimport matplotlib.pyplot as plt \nX_EMD_test=X_data1[1][0].values\nemd = EMD()\nIMFs = emd.emd(X_EMD_test)  \n# 计算残差（原始信号减去所有IMF之和）  \nresidual = X_EMD_test - np.sum(IMFs, axis=0)  \n# 绘制所有IMF和残差  \nplt.figure(figsize=(12, 20))  \nfor n, imf in enumerate(IMFs):  \n    plt.subplot(len(IMFs) + 1, 1, n + 1)  \n    plt.plot(imf)  \n    plt.title(f'IMF {n+1}')  \nplt.subplot(len(IMFs) + 1, 1, len(IMFs) + 1)  \nplt.plot(residual)  \nplt.title('Residual')  \nplt.tight_layout()  \nplt.show() ",
   "metadata": {
    "execution": {
     "iopub.status.busy": "2024-07-08T08:16:36.632881Z",
     "iopub.execute_input": "2024-07-08T08:16:36.633262Z",
     "iopub.status.idle": "2024-07-08T08:16:52.443708Z",
     "shell.execute_reply.started": "2024-07-08T08:16:36.633231Z",
     "shell.execute_reply": "2024-07-08T08:16:52.442498Z"
    },
    "trusted": true
   },
   "execution_count": 9,
   "outputs": []
  },
  {
   "cell_type": "code",
   "source": "# 计算相关性和方差贡献率  \nx=X_EMD_test\nN = len(x)  \nrho_xy = []  \nmesb = []  \nfor y_i in IMFs:  \n    # 计算均值  \n    x_mean, y_mean = np.mean(x), np.mean(y_i)  \n    # 计算相关性  \n    cov_xy = np.sum((x - x_mean) * (y_i - y_mean))  \n    var_x, var_y = np.sum((x - x_mean)**2), np.sum((y_i - y_mean)**2)  \n    rho_xy_i = cov_xy / (np.sqrt(var_x) * np.sqrt(var_y))  \n    rho_xy.append(rho_xy_i)  \n      \n    # 计算方差贡献率  \n    d_i_squared = np.sum((y_i - y_mean)**2) / N  \n    total_variance = sum(np.sum((imf - np.mean(imf))**2) / N for imf in IMFs)  \n    mesb_i = d_i_squared / total_variance  \n    mesb.append(mesb_i)  \n  \n# 计算综合评价指标 K  \nalpha, beta = 0.2, 0.8  \nK = [alpha * rho + beta * mesb for rho, mesb in zip(rho_xy, mesb)]\nprint(\"Correlation:\", rho_xy)  \nprint(\"Variance Explanation:\", mesb)  \nprint(\"Combined K:\", K)",
   "metadata": {
    "execution": {
     "iopub.status.busy": "2024-07-08T08:17:03.577391Z",
     "iopub.execute_input": "2024-07-08T08:17:03.577772Z",
     "iopub.status.idle": "2024-07-08T08:17:03.590130Z",
     "shell.execute_reply.started": "2024-07-08T08:17:03.577743Z",
     "shell.execute_reply": "2024-07-08T08:17:03.588948Z"
    },
    "trusted": true
   },
   "execution_count": 10,
   "outputs": []
  },
  {
   "cell_type": "code",
   "source": "noise_imfs=[]\nnon_noise_imfs=[]\n# 区分噪音和非噪音\nfor i in range(len(K)):\n    if K[i]< 0.1:\n        noise_imfs.append(IMFs[i])\n    else:\n        non_noise_imfs.append(IMFs[i])\n# 重构信号  \nreconstructed_signal = np.sum(non_noise_imfs, axis=0) + residual\n  \n# 绘制原始信号和重构信号  \nplt.figure(figsize=(12, 4))  \nplt.subplot(1, 2, 1)  \nplt.plot(X_EMD_test)  \nplt.title('Original Signal')  \n  \nplt.subplot(1, 2, 2)  \nplt.plot(reconstructed_signal)  \nplt.title('Reconstructed Signal (Noise Reduced)')  \nplt.tight_layout()  \nplt.show()",
   "metadata": {
    "execution": {
     "iopub.status.busy": "2024-07-08T08:17:11.931014Z",
     "iopub.execute_input": "2024-07-08T08:17:11.931512Z",
     "iopub.status.idle": "2024-07-08T08:17:12.536734Z",
     "shell.execute_reply.started": "2024-07-08T08:17:11.931472Z",
     "shell.execute_reply": "2024-07-08T08:17:12.535444Z"
    },
    "trusted": true
   },
   "execution_count": 11,
   "outputs": []
  }
 ]
}
