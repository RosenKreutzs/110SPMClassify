{
 "cells": [
  {
   "metadata": {},
   "cell_type": "markdown",
   "source": "# 数据准备",
   "id": "3a7a785b5dc4fe64"
  },
  {
   "metadata": {
    "ExecuteTime": {
     "end_time": "2024-08-14T13:44:35.284927Z",
     "start_time": "2024-08-14T13:44:33.727015Z"
    }
   },
   "cell_type": "code",
   "source": [
    "import os  \n",
    "import torch  \n",
    "import pandas as pd  \n",
    "import matplotlib.pyplot as plt\n",
    "  \n",
    "    #step1:加载数据集\n",
    "# 设置数据集的路径  \n",
    "data_dir = '../../../DataFiles/ODS/strain'   \n",
    "# 创建空的列表来存储所有的DataFrame  \n",
    "X_data0 = []  \n",
    "y_data0 = []\n",
    "# 遍历指定目录下的所有文件  \n",
    "for filename in os.listdir(data_dir):  \n",
    "    if filename.endswith('.csv'):  \n",
    "        # 构建文件的完整路径  \n",
    "        file_path = os.path.join(data_dir, filename)  \n",
    "        # 读取Excel文件  \n",
    "        df = pd.read_csv(file_path)\n",
    "        serie=df.iloc[:, 0]\n",
    "        version_without_extension = filename.rsplit(\".\", 1)[0] \n",
    "        serie.name=version_without_extension\n",
    "        # 将读取的DataFrame添加到列表中  \n",
    "        X_data0.append(serie)\n",
    "        y_data0.append(version_without_extension)\n",
    "\n",
    "    #step2:遍历X_data0中的每个DataFrame，并删除非数字数据  \n",
    "cleaned_data = []  \n",
    "for df in X_data0:  \n",
    "    df_cleaned = df[pd.to_numeric(df, errors='coerce').notnull()]  \n",
    "    cleaned_data.append(df_cleaned)  \n",
    " \n",
    "\n",
    "    #step3:将X_data0中的每个DataFrame的所有元素变为float类型 \n",
    "for i, df in enumerate(cleaned_data):  \n",
    "    X_data0[i] = df.astype(float) \n",
    "\n",
    "# 初始化X_data1来存储结果  \n",
    "X_data1 = []  \n",
    "  \n",
    "# 遍历X_data0中的每个Series  \n",
    "for series in X_data0:  \n",
    "    # 计算步长（由于重叠率为50%，步长为序列长度的一半）  \n",
    "    step_size = 1024  # 因为2048的一半是1024，且我们想要50%的重叠  \n",
    "    # 初始化一个空的list来存储子序列  \n",
    "    subsequences = []  \n",
    "    # 使用range和步长来生成子序列  \n",
    "    for i in range(0, len(series) - 2048+ 1, step_size):  \n",
    "        # 确保切片是一维的，并转换为Series（虽然这里切片已经是Series）  \n",
    "        subsequence = series.iloc[i:i+2048]  \n",
    "        subsequences.append(subsequence) \n",
    "    X_data1.append(subsequences)  \n",
    "print((type(X_data1),len(X_data1),len(X_data1[0])))\n",
    "\n",
    "import pandas as pd  \n",
    "import numpy as np  \n",
    "from sklearn.model_selection import train_test_split  \n",
    "from sklearn.preprocessing import LabelEncoder  \n",
    "from keras.utils import to_categorical\n",
    "import time  \n",
    "from keras.callbacks import Callback  \n",
    "import torch \n",
    "\n",
    "# 假设 X_data1 已经定义好了  \n",
    "all_data = []  \n",
    "all_labels = []  \n",
    "  \n",
    "for sublist in X_data1:  \n",
    "    for series in sublist:  \n",
    "        # 假设每个series是pandas Series  \n",
    "        all_data.append(series.values)  \n",
    "        all_labels.append(series.name)  \n",
    "  \n",
    "# 将数据转换为numpy数组  \n",
    "data_array = np.array(all_data)  \n",
    "# 将标签转换为编码  \n",
    "\n",
    "label_encoder = LabelEncoder()  \n",
    "labels_encoded = label_encoder.fit_transform(all_labels)  \n",
    "  \n",
    "# 如果需要one-hot编码  \n",
    "labels_one_hot = to_categorical(labels_encoded)  \n",
    "  \n",
    "# 这里你可能需要reshape data_array 以符合LSTM的输入要求  \n",
    "# LSTM通常要求输入形状为 (samples, time_steps, features)  \n",
    "# 假设每个series的长度相同，或者你可以填充/截断它们以具有相同的长度  \n",
    "# time_steps = data_array.shape[1]  # 假设所有series长度相同  \n",
    "# data_array = data_array.reshape(-1, time_steps, 1)  # 增加一个维度以匹配LSTM的输入要求\n",
    "\n",
    "# 分割数据集  \n",
    "X_train, X_temp, y_train, y_temp = train_test_split(data_array, labels_one_hot, test_size=0.3, random_state=42)  \n",
    "X_val, X_test, y_val, y_test = train_test_split(X_temp, y_temp, test_size=0.5, random_state=42)\n",
    "print((type(X_train),X_train.shape,type(y_train),y_train.shape))\n",
    "X_train_first_12 = X_train[:12]  "
   ],
   "id": "1144027e7e8d02a6",
   "execution_count": 34,
   "outputs": []
  },
  {
   "metadata": {},
   "cell_type": "markdown",
   "source": [
    "# Go_EMD的实现和效果展示\n",
    "- 我的个人理解：[Go_EMD](./Go_EMD.md)；\n",
    "- Go_EMD是定制化于特定场景的，本代码应用场景是提取出包含主要能量成分的 IMF(目标函数是IMF 的能量);"
   ],
   "id": "5eea7b9bc2b750ad"
  },
  {
   "metadata": {},
   "cell_type": "markdown",
   "source": "## step1:设置Go_EMD的函数",
   "id": "bf83641afb19ec59"
  },
  {
   "metadata": {
    "ExecuteTime": {
     "end_time": "2024-08-14T13:44:35.329228Z",
     "start_time": "2024-08-14T13:44:35.284927Z"
    }
   },
   "cell_type": "code",
   "source": [
    "import numpy as np\n",
    "from PyEMD import EMD\n",
    "import matplotlib.pyplot as plt\n",
    "\n",
    "def goal_function(imf):\n",
    "    \"\"\"\n",
    "    目标函数：计算IMF的能量（平方和）\n",
    "    \"\"\"\n",
    "    return np.sum(imf ** 2)\n",
    "\n",
    "def Go_EMD(signal, max_imfs=None, energy_threshold=0.1):\n",
    "    \"\"\"\n",
    "    使用Go-EMD对信号进行分解，提取目标导向的IMFs\n",
    "    \n",
    "    参数:\n",
    "    signal (array-like): 输入信号\n",
    "    max_imfs (int): 最大提取IMF的数量\n",
    "    energy_threshold (float): 能量阈值，控制分解的停止条件\n",
    "    \n",
    "    返回:\n",
    "    selected_imfs (array-like): 提取的IMFs\n",
    "    \"\"\"\n",
    "    emd = EMD()\n",
    "    residue = signal.copy()\n",
    "    selected_imfs = []\n",
    "    \n",
    "    # EMD 分解\n",
    "    imfs = emd.emd(residue)\n",
    "    num_imfs = len(imfs)\n",
    "    for i in range(num_imfs):\n",
    "        imf = imfs[i]\n",
    "        energy = goal_function(imf)\n",
    "        # 如果能量大于阈值，保留该IMF\n",
    "        if energy > energy_threshold * goal_function(signal):\n",
    "            selected_imfs.append(imf)\n",
    "        \n",
    "        # 更新残差\n",
    "        residue -= imf\n",
    "        \n",
    "        if max_imfs and len(selected_imfs) >= max_imfs:\n",
    "            break\n",
    "    \n",
    "    return np.array(selected_imfs)"
   ],
   "id": "f4fc75c0843ffef7",
   "execution_count": 35,
   "outputs": []
  },
  {
   "metadata": {},
   "cell_type": "markdown",
   "source": "## step2:对原始信号进行Go_EMD操作，获得IMF组；",
   "id": "3661540b4405ab75"
  },
  {
   "metadata": {
    "ExecuteTime": {
     "end_time": "2024-08-14T13:44:35.593271Z",
     "start_time": "2024-08-14T13:44:35.329228Z"
    }
   },
   "cell_type": "code",
   "source": [
    "import numpy as np\n",
    "from PyEMD import CEEMDAN\n",
    "# 假设你已经有一个信号\n",
    "signal = X_train_first_12[0]  # 将长度为2048的信号替换为你的信号\n",
    "\n",
    "\n",
    "# 使用Go_EMD对信号进行分解\n",
    "IMFs = Go_EMD(signal, max_imfs=4, energy_threshold=0.00001)\n",
    "\n",
    "\n",
    "# 计算残差\n",
    "residual = signal - np.sum(IMFs, axis=0)\n",
    "\n",
    "# 信号重构\n",
    "reconstructed_signal = np.sum(IMFs, axis=0)\n",
    "\n",
    "print(\"IMFs shape:\", IMFs.shape)\n",
    "print(\"Residual shape:\", residual.shape)\n",
    "print(\"Reconstructed signal shape:\", reconstructed_signal.shape)\n"
   ],
   "id": "6f932613bfbc8c25",
   "execution_count": 36,
   "outputs": []
  },
  {
   "metadata": {},
   "cell_type": "markdown",
   "source": [
    "## step3:显示IMF组和原始信号和重构信号；\n",
    "- 每个IMF都代表了原始信号的某种固有振动模式信息；\n",
    "- IMF包含的信息可通过[筛选](../../ModelsContrast/110spmemdlstmvibration.ipynb)后，以达到去噪的效果；之后再重构；"
   ],
   "id": "27904607aef96935"
  },
  {
   "metadata": {
    "ExecuteTime": {
     "end_time": "2024-08-14T13:44:39.771321Z",
     "start_time": "2024-08-14T13:44:35.609097Z"
    }
   },
   "cell_type": "code",
   "source": [
    "plt.plot(signal, 'r')\n",
    "plt.title(\"原始信号\")\n",
    "plt.show()\n",
    "\n",
    "plt.figure(figsize=(15,10))\n",
    "for num in range(4):\n",
    "    plt.subplot(4+1, 1, num+2)\n",
    "    plt.plot(IMFs[num])\n",
    "    plt.title(\"IMF \"+str(num+1))\n",
    "plt.show()\n",
    "\n",
    "plt.plot(reconstructed_signal, 'r')\n",
    "plt.title(\"重构信号\")\n",
    "plt.show()\n",
    "\n",
    "plt.plot(residual, 'r')\n",
    "plt.title(\"残差信号\")\n",
    "plt.show()\n"
   ],
   "id": "e3f65a9010d3ccaf",
   "execution_count": 37,
   "outputs": []
  },
  {
   "metadata": {
    "ExecuteTime": {
     "end_time": "2024-08-14T13:44:39.801912Z",
     "start_time": "2024-08-14T13:44:39.785944Z"
    }
   },
   "cell_type": "code",
   "source": "",
   "id": "87513962ecf18480",
   "execution_count": 37,
   "outputs": []
  }
 ],
 "metadata": {
  "kaggle": {
   "accelerator": "none",
   "dataSources": [
    {
     "datasetId": 5319136,
     "sourceId": 8838704,
     "sourceType": "datasetVersion"
    }
   ],
   "dockerImageVersionId": 30732,
   "isGpuEnabled": false,
   "isInternetEnabled": true,
   "language": "python",
   "sourceType": "notebook"
  },
  "kernelspec": {
   "display_name": "Python 3",
   "language": "python",
   "name": "python3"
  },
  "language_info": {
   "codemirror_mode": {
    "name": "ipython",
    "version": 3
   },
   "file_extension": ".py",
   "mimetype": "text/x-python",
   "name": "python",
   "nbconvert_exporter": "python",
   "pygments_lexer": "ipython3",
   "version": "3.10.13"
  },
  "papermill": {
   "default_parameters": {},
   "duration": 10059.379349,
   "end_time": "2024-07-11T10:30:02.807899",
   "environment_variables": {},
   "exception": null,
   "input_path": "__notebook__.ipynb",
   "output_path": "__notebook__.ipynb",
   "parameters": {},
   "start_time": "2024-07-11T07:42:23.428550",
   "version": "2.5.0"
  }
 },
 "nbformat": 4,
 "nbformat_minor": 5
}
